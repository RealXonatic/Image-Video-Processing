{
 "cells": [
  {
   "metadata": {},
   "cell_type": "markdown",
   "source": [
    "# TP2 : Image classification\n",
    "\n",
    "* 1 Bag-of-Words Classication with Histograms Oriented Gradients"
   ],
   "id": "31af876d1c80a7e0"
  },
  {
   "metadata": {
    "ExecuteTime": {
     "end_time": "2024-10-13T18:58:13.503015Z",
     "start_time": "2024-10-13T18:58:07.517100Z"
    }
   },
   "cell_type": "code",
   "source": [
    "import cv2\n",
    "import numpy\n",
    "import numpy as np\n",
    "import matplotlib.pyplot as plt\n",
    "from scipy.ndimage import gaussian_filter, convolve\n",
    "import scipy.ndimage as ndimage"
   ],
   "id": "9f2d940910d3775f",
   "outputs": [],
   "execution_count": 1
  },
  {
   "metadata": {
    "ExecuteTime": {
     "end_time": "2024-10-13T18:58:13.661670Z",
     "start_time": "2024-10-13T18:58:13.505633Z"
    }
   },
   "cell_type": "code",
   "source": [
    "def grid(image, n_points_x, n_points_y):\n",
    "    \n",
    "    # Get the shape of the image\n",
    "    height, width = image.shape\n",
    "    \n",
    "    # Compute the 1D vectors \n",
    "    X_vect = numpy.linspace(0, width-1, n_points_x)\n",
    "    Y_vect = numpy.linspace(0, height-1, n_points_y)\n",
    "    \n",
    "    # Creating the meshgrid\n",
    "    X, Y = numpy.meshgrid(X_vect, Y_vect)\n",
    "\n",
    "    # Flatens the matrix to get a vector with cordinated\n",
    "    X_flat = X.ravel()\n",
    "    Y_flat = Y.ravel()\n",
    "\n",
    "    return X_flat, Y_flat, X, Y\n",
    "\n",
    "# Exemple d'utilisation\n",
    "image = cv2.imread('STL10/stl10_raw/test/airplane/airplane_test_001.png')\n",
    "\n",
    "# Convertir l'image en niveaux de gris (important pour que la fonction grid fonctionne correctement)\n",
    "image_gray = cv2.cvtColor(image, cv2.COLOR_BGR2GRAY)\n",
    "\n",
    "n_points_x = 6 # Nombre de points dans la direction x\n",
    "n_points_y = 6  # Nombre de points dans la direction y\n",
    "# Appel de la fonction\n",
    "X_flat, Y_flat, X, Y = grid(image_gray, n_points_x, n_points_y)\n",
    "\n",
    "# Affichage des premiers résultats pour visualiser la grille\n",
    "print(\"Indices X :\", X_flat[:10])\n",
    "print(\"Indices Y :\", Y_flat[:10])\n",
    "\n",
    "plt.scatter(X, Y, c='r', marker='o')  # Utilisation de scatter pour visualiser la grille de points\n",
    "plt.gca().invert_yaxis()  # Inverser l'axe Y pour correspondre aux coordonnées d'image\n",
    "plt.title('Visualisation du meshgrid')\n",
    "plt.xlabel('X')\n",
    "plt.ylabel('Y')\n",
    "plt.show()"
   ],
   "id": "8e25e4ed18a64ef",
   "outputs": [
    {
     "name": "stdout",
     "output_type": "stream",
     "text": [
      "Indices X : [ 0. 19. 38. 57. 76. 95.  0. 19. 38. 57.]\n",
      "Indices Y : [ 0.  0.  0.  0.  0.  0. 19. 19. 19. 19.]\n"
     ]
    },
    {
     "data": {
      "text/plain": [
       "<Figure size 640x480 with 1 Axes>"
      ],
      "image/png": "[encoded data removed]"
     },
     "metadata": {},
     "output_type": "display_data"
    }
   ],
   "execution_count": 2
  },
  {
   "metadata": {
    "ExecuteTime": {
     "end_time": "2024-10-13T18:58:13.698360Z",
     "start_time": "2024-10-13T18:58:13.662950Z"
    }
   },
   "cell_type": "code",
   "source": [
    "def compute_hog_descriptors(image, X_flat, Y_flat, cell_size=4, num_bins=8, patch_size=16):\n",
    "    \"\"\"\n",
    "    param image: image (grayscale)\n",
    "    :param X_flat: 1D vector of x coordinates\n",
    "    :param Y_flat: 1D vector of y coordinates\n",
    "    :param cell_size: cell size (par défaut 4x4 pixels)\n",
    "    :param num_bins: number of bins of each patch (8 by default)\n",
    "    :return: 2D array containing hog descriptors for each point of the grid\n",
    "    \"\"\"\n",
    "    hog_descriptors = []\n",
    "    height, width = image.shape\n",
    "\n",
    "    # Comoute the image gradient (using Sobel)\n",
    "    gx = ndimage.sobel(image, axis=1)  # Gradient in x\n",
    "    gy = ndimage.sobel(image, axis=0)  # Gradient in y\n",
    "\n",
    "    # Compute the magnitude and direction of the gradient\n",
    "    magnitude = np.sqrt(gx**2 + gy**2)\n",
    "    direction = np.arctan2(gy, gx)  \n",
    "\n",
    "    # Put it in angle form\n",
    "    direction = np.mod(direction, 2 * np.pi)\n",
    "\n",
    "\n",
    "    # Pour chaque point de la grille, calculer le descripteur HOG\n",
    "    for x, y in zip(X_flat, Y_flat):\n",
    "        x, y = int(x), int(y)\n",
    "\n",
    "        # Calculer à quel patch le point appartient\n",
    "        x_patch_min = (x // patch_size) * patch_size\n",
    "        y_patch_min = (y // patch_size) * patch_size\n",
    "\n",
    "        # Fixer les limites du patch\n",
    "        x_min = x_patch_min\n",
    "        x_max = min(x_min + patch_size, width)\n",
    "        y_min = y_patch_min\n",
    "        y_max = min(y_min + patch_size, height)\n",
    "\n",
    "        # Extraire la magnitude et la direction des gradients pour le patch de 16x16 pixels\n",
    "        patch_magnitude = magnitude[y_min:y_max, x_min:x_max]\n",
    "        patch_direction = direction[y_min:y_max, x_min:x_max]\n",
    "\n",
    "        # Divide the patch into a 4x4 cells\n",
    "        hog_vector = []\n",
    "        \n",
    "        # For each cell we compute the histogram\n",
    "        for i in range(0, patch_magnitude.shape[0], cell_size):\n",
    "            for j in range(0, patch_magnitude.shape[1], cell_size):\n",
    "                # Extract the 4x4 cell from the patch\n",
    "                cell_magnitude = patch_magnitude[i:i+cell_size, j:j+cell_size]\n",
    "                cell_direction = patch_direction[i:i+cell_size, j:j+cell_size]\n",
    "\n",
    "                # Create a histogram for that cell\n",
    "                hist, _ = np.histogram(\n",
    "                    cell_direction, bins=num_bins, range=(0, 2 * np.pi),\n",
    "                    weights=cell_magnitude\n",
    "                )\n",
    "\n",
    "                # Append every histogram for each cell to the vector\n",
    "                hog_vector.extend(hist)\n",
    "\n",
    "        # Apend the histogram of this patch to the list of hog descriptor\n",
    "        hog_descriptors.append(hog_vector)\n",
    "\n",
    "    # Return the array of the HOG descriptor\n",
    "    return np.array(hog_descriptors)\n",
    "\n",
    "HOG_D = compute_hog_descriptors(image_gray, X_flat, Y_flat)\n",
    "\n"
   ],
   "id": "897e8be803f6caf3",
   "outputs": [],
   "execution_count": 3
  },
  {
   "metadata": {
    "ExecuteTime": {
     "end_time": "2024-10-13T18:58:13.732148Z",
     "start_time": "2024-10-13T18:58:13.700400Z"
    }
   },
   "cell_type": "code",
   "source": [
    "def display_hog_matrix(hog_descriptors):\n",
    "    \"\"\"\n",
    "    Show informations of the hog descriptors\n",
    "    \n",
    "    :param hog_descriptors: 2D matrix of the hog descriptor (n_points x 128)\n",
    "    \"\"\"\n",
    "    print(\"Shape of the HOG descriptors matrix:\", hog_descriptors.shape)\n",
    "    print(\"\\nFirst 5 rows of the HOG descriptors matrix:\\n\", hog_descriptors[:5])  # Afficher les 5 premières lignes\n",
    "\n",
    "# Example for an image\n",
    "hog_descriptors = compute_hog_descriptors(image_gray, X_flat, Y_flat)\n",
    "display_hog_matrix(hog_descriptors)\n"
   ],
   "id": "a3d8b1b35802fd36",
   "outputs": [
    {
     "name": "stdout",
     "output_type": "stream",
     "text": [
      "Shape of the HOG descriptors matrix: (36, 128)\n",
      "\n",
      "First 5 rows of the HOG descriptors matrix:\n",
      " [[ 13.41   18.72    6.      0.      0.      0.      0.      0.      8.33\n",
      "   28.9     2.      0.      0.      0.      0.      0.     12.33   37.1\n",
      "    6.      0.      0.      0.      0.      0.     19.16    9.57   10.\n",
      "    0.      0.      0.      0.      0.     33.8    11.55    8.      0.\n",
      "    0.      0.      0.      0.     16.47   15.555   4.      0.      0.\n",
      "    0.      0.      0.      9.16   30.94   10.      0.      0.      0.\n",
      "    0.      0.     10.99   41.22    4.      0.      0.      0.      0.\n",
      "    0.     12.46   30.22    2.      0.      0.      0.      0.      0.\n",
      "   15.734  17.64    2.      0.      0.      0.      0.      0.     19.88\n",
      "    8.82    8.      0.      0.      0.      0.      0.     17.03   16.78\n",
      "    0.      0.      0.      0.      0.      0.     12.21   22.06    2.\n",
      "    0.      0.      0.      0.      0.     11.984  34.6     0.      0.\n",
      "    0.      0.      0.      0.     11.164   9.16    6.      0.      0.\n",
      "    0.      0.      0.      8.47   16.22   14.      0.      0.      0.\n",
      "    0.      0.   ]\n",
      " [ 24.56    2.828   2.      0.      0.      0.      0.      0.     33.25\n",
      "   21.55    0.      0.      0.      0.      0.      0.     13.99    8.484\n",
      "    8.      0.      0.      0.      0.      0.     20.36   14.81    0.\n",
      "    0.      0.      0.      0.      0.     18.12   31.94    2.      0.\n",
      "    0.      0.      0.      0.     62.16   32.62    0.      0.      0.\n",
      "    0.      0.      0.     69.5    30.03    4.      0.      0.      0.\n",
      "    0.      0.     56.72   24.92    4.      0.      0.      0.      0.\n",
      "    0.     24.5    16.12    8.      0.      0.      0.      0.      0.\n",
      "   19.45   99.1     0.      0.      0.      0.      0.      0.     45.12\n",
      "  122.8     0.      0.      0.      0.      0.      0.    150.4    22.72\n",
      "    0.      0.      0.      0.      0.      0.     15.77   25.9     4.\n",
      "    0.      0.      0.      0.      0.     17.12   48.9     4.      0.\n",
      "    0.      0.      0.      0.      7.21  134.2     0.      0.      0.\n",
      "    0.      0.      0.     29.98  110.6     0.      0.      0.      0.\n",
      "    0.      0.   ]\n",
      " [ 11.89   28.97    8.      0.      0.      0.      0.      0.     11.63\n",
      "   23.47    4.      0.      0.      0.      0.      0.     28.78   17.88\n",
      "    2.      0.      0.      0.      0.      0.     17.06    5.992   4.\n",
      "    0.      0.      0.      0.      0.     20.5    10.56    8.      0.\n",
      "    0.      0.      0.      0.     38.78   14.06    0.      0.      0.\n",
      "    0.      0.      0.     17.5    21.39   16.      0.      0.      0.\n",
      "    0.      0.     21.53   11.984  10.      0.      0.      0.      0.\n",
      "    0.    155.1     1.414   0.      0.      0.      0.      0.      0.\n",
      "  105.3    23.86    0.      0.      0.      0.      0.      0.     11.9\n",
      "   29.64    2.      0.      0.      0.      0.      0.     13.484  11.984\n",
      "    8.      0.      0.      0.      0.      0.    142.9    48.44    0.\n",
      "    0.      0.      0.      0.      0.    130.5    54.5     0.      0.\n",
      "    0.      0.      0.      0.     65.5    61.84    0.      0.      0.\n",
      "    0.      0.      0.     13.81   19.05   16.      0.      0.      0.\n",
      "    0.      0.   ]\n",
      " [ 10.8    25.61   16.      0.      0.      0.      0.      0.     31.16\n",
      "   24.1     4.      0.      0.      0.      0.      0.     15.89   13.06\n",
      "    6.      0.      0.      0.      0.      0.      7.164  13.06    6.\n",
      "    0.      0.      0.      0.      0.     20.56   10.56    2.      0.\n",
      "    0.      0.      0.      0.     14.56   19.39    2.      0.      0.\n",
      "    0.      0.      0.     20.47    9.9     4.      0.      0.      0.\n",
      "    0.      0.     15.78   22.11    0.      0.      0.      0.      0.\n",
      "    0.     44.47    7.633   2.      0.      0.      0.      0.      0.\n",
      "   21.98   14.06    8.      0.      0.      0.      0.      0.     13.484\n",
      "   19.05   16.      0.      0.      0.      0.      0.     37.34    7.07\n",
      "    4.      0.      0.      0.      0.      0.      8.82   20.36   14.\n",
      "    0.      0.      0.      0.      0.     17.38   17.3     8.      0.\n",
      "    0.      0.      0.      0.     21.88    8.82    6.      0.      0.\n",
      "    0.      0.      0.     18.7    15.14    8.      0.      0.      0.\n",
      "    0.      0.   ]\n",
      " [ 28.95   13.06    2.      0.      0.      0.      0.      0.     20.33\n",
      "   25.5     0.      0.      0.      0.      0.      0.     18.16   19.28\n",
      "   12.      0.      0.      0.      0.      0.     21.81   32.38   10.\n",
      "    0.      0.      0.      0.      0.     13.42    7.406   4.      0.\n",
      "    0.      0.      0.      0.     15.73    5.887  10.      0.      0.\n",
      "    0.      0.      0.      5.164   4.58   12.      0.      0.      0.\n",
      "    0.      0.     25.11   26.12    6.      0.      0.      0.      0.\n",
      "    0.      5.414   2.828   2.      0.      0.      0.      0.      0.\n",
      "    7.656  15.78    4.      0.      0.      0.      0.      0.      8.58\n",
      "   17.2     4.      0.      0.      0.      0.      0.      8.33   10.56\n",
      "    2.      0.      0.      0.      0.      0.     26.81   16.12    8.\n",
      "    0.      0.      0.      0.      0.     30.45    4.58    4.      0.\n",
      "    0.      0.      0.      0.     26.66   17.3     2.      0.      0.\n",
      "    0.      0.      0.      5.992  20.03   10.      0.      0.      0.\n",
      "    0.      0.   ]]\n"
     ]
    }
   ],
   "execution_count": 4
  },
  {
   "metadata": {
    "ExecuteTime": {
     "end_time": "2024-10-13T18:58:13.990837Z",
     "start_time": "2024-10-13T18:58:13.733316Z"
    }
   },
   "cell_type": "code",
   "source": [
    "import numpy as np\n",
    "from scipy.spatial.distance import cdist\n",
    "\n",
    "def kmeans_clustering(hog_descriptors, K, max_iters=100, tol=1e-4):\n",
    "    \"\"\"\n",
    "    Implements the K-means clustering algorithm to build a visual vocabulary.\n",
    "    \n",
    "    :param hog_descriptors: 2D array (n_samples x 128) containing HOG descriptors from all images\n",
    "    :param K: Number of clusters (size of the visual vocabulary)\n",
    "    :param max_iters: Maximum number of iterations for K-means (default 100)\n",
    "    :param tol: Tolerance to stop the algorithm when centroids converge (default 1e-4)\n",
    "    :return: 2D array of size K x 128 containing the final cluster centroids (visual words)\n",
    "    \"\"\"\n",
    "    # Step 1: Randomly initialize the cluster centroids\n",
    "    n_samples, n_features = hog_descriptors.shape\n",
    "    centroids = hog_descriptors[np.random.permutation(n_samples)[:K]]  # Randomly select K centroids from data\n",
    "\n",
    "    for iteration in range(max_iters):\n",
    "        # Step 2: Assign each descriptor to the nearest centroid (using Euclidean distance)\n",
    "        distances = cdist(hog_descriptors, centroids, 'euclidean')\n",
    "        labels = np.argmin(distances, axis=1)  # Find the nearest centroid for each descriptor\n",
    "\n",
    "        # Save the current centroids to check convergence later\n",
    "        previous_centroids = centroids.copy()\n",
    "\n",
    "        # Step 3: Update centroids by calculating the mean of all descriptors assigned to each centroid\n",
    "        for k in range(K):\n",
    "            points_in_cluster = hog_descriptors[labels == k]\n",
    "            if len(points_in_cluster) > 0:\n",
    "                centroids[k] = points_in_cluster.mean(axis=0)  # New centroid is the mean of all assigned points\n",
    "\n",
    "        # Check for convergence (if centroids don't change much)\n",
    "        centroid_shift = np.linalg.norm(centroids - previous_centroids, axis=1).max()\n",
    "        if centroid_shift < tol:\n",
    "            print(f\"K-means converged after {iteration+1} iterations.\")\n",
    "            break\n",
    "\n",
    "    return centroids\n",
    "\n",
    "# Example usage with sample HOG descriptors\n",
    "# Assume hog_descriptors is a 2D array (n_samples x 128) containing all HOG descriptors from training images\n",
    "\n",
    "# Define the number of clusters (size of the visual vocabulary)\n",
    "K = 50  # Example with 50 clusters\n",
    "\n",
    "# Call the function to compute the centroids\n",
    "vocabulary = kmeans_clustering(hog_descriptors, K)\n",
    "\n",
    "# Print the shape of the resulting vocabulary (should be K x 128)\n",
    "print(\"Visual vocabulary (centroids):\", vocabulary.shape)"
   ],
   "id": "1fe1a269f44f1985",
   "outputs": [
    {
     "name": "stdout",
     "output_type": "stream",
     "text": [
      "K-means converged after 1 iterations.\n",
      "Visual vocabulary (centroids): (36, 128)\n"
     ]
    }
   ],
   "execution_count": 5
  },
  {
   "metadata": {
    "ExecuteTime": {
     "end_time": "2024-10-13T18:58:13.993788Z",
     "start_time": "2024-10-13T18:58:13.991974Z"
    }
   },
   "cell_type": "code",
   "source": "",
   "id": "cc9cc83c5135ac10",
   "outputs": [],
   "execution_count": 5
  }
 ],
 "metadata": {
  "kernelspec": {
   "display_name": "Python 3",
   "language": "python",
   "name": "python3"
  },
  "language_info": {
   "codemirror_mode": {
    "name": "ipython",
    "version": 2
   },
   "file_extension": ".py",
   "mimetype": "text/x-python",
   "name": "python",
   "nbconvert_exporter": "python",
   "pygments_lexer": "ipython2",
   "version": "2.7.6"
  }
 },
 "nbformat": 4,
 "nbformat_minor": 5
}
