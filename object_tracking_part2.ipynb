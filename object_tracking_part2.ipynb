{
 "cells": [
  {
   "metadata": {
    "ExecuteTime": {
     "end_time": "2024-11-06T15:19:06.832593Z",
     "start_time": "2024-11-06T15:19:06.829276Z"
    }
   },
   "cell_type": "code",
   "source": [
    "import numpy as np\n",
    "import cv2"
   ],
   "id": "3841a90982fbd587",
   "outputs": [],
   "execution_count": 46
  },
  {
   "metadata": {
    "ExecuteTime": {
     "end_time": "2024-11-06T15:19:06.835804Z",
     "start_time": "2024-11-06T15:19:06.833504Z"
    }
   },
   "cell_type": "code",
   "source": [
    "# Paramètres globaux\n",
    "N = 200  # Nombre de particules\n",
    "sigma_position = np.diag([50, 50])  # Bruit gaussien pour la position\n",
    "sigma_angle = 5  # Bruit pour l'angle en degrés\n",
    "lambd = 5  # Paramètre de lissage pour la mise à jour des poids\n"
   ],
   "id": "39976115f56e5fdf",
   "outputs": [],
   "execution_count": 47
  },
  {
   "metadata": {
    "ExecuteTime": {
     "end_time": "2024-11-06T15:19:11.723353Z",
     "start_time": "2024-11-06T15:19:06.836392Z"
    }
   },
   "cell_type": "code",
   "source": [
    "# Chargement de la vidéo\n",
    "cap = cv2.VideoCapture('video sequences/synthetic/escrime-4-3.avi')  # Exemple de chemin vidéo\n",
    "\n",
    "# Lire la première image pour sélectionner la fenêtre\n",
    "ret, frame = cap.read()\n",
    "if not ret:\n",
    "    print(\"Erreur : Impossible de lire la vidéo\")\n",
    "    cap.release()\n",
    "    exit()\n",
    "\n",
    "# Sélection de la région d'intérêt (ROI) pour l'objet\n",
    "roi = cv2.selectROI(\"Select Object\", frame, fromCenter=False, showCrosshair=True)\n",
    "x, y, w, h = roi\n",
    "cv2.destroyAllWindows()"
   ],
   "id": "353bb6fb5b96d18a",
   "outputs": [],
   "execution_count": 48
  },
  {
   "metadata": {
    "ExecuteTime": {
     "end_time": "2024-11-06T15:19:11.732514Z",
     "start_time": "2024-11-06T15:19:11.725743Z"
    }
   },
   "cell_type": "code",
   "source": [
    "# Calcul de l'histogramme de la fenêtre sélectionnée\n",
    "def calc_histogram(image, roi):\n",
    "    x, y, w, h = roi\n",
    "    roi_image = image[int(y):int(y+h), int(x):int(x+w)]\n",
    "    hist = cv2.calcHist([roi_image], [0], None, [256], [0, 256])\n",
    "    hist = cv2.normalize(hist, hist).flatten()\n",
    "    return hist\n",
    "\n",
    "roi_hist = calc_histogram(frame, roi)"
   ],
   "id": "843f83946dfc8d6c",
   "outputs": [],
   "execution_count": 49
  },
  {
   "metadata": {
    "ExecuteTime": {
     "end_time": "2024-11-06T15:19:11.738855Z",
     "start_time": "2024-11-06T15:19:11.734236Z"
    }
   },
   "cell_type": "code",
   "source": [
    "# Initialisation des particules avec (x, y, theta)\n",
    "particles = np.column_stack((\n",
    "    np.random.uniform(x, x + w, N),        # Position x\n",
    "    np.random.uniform(y, y + h, N),        # Position y\n",
    "    np.random.uniform(-360, 360, N) # Angle theta en degrés\n",
    "))\n",
    "weights = np.ones(N) / N  # Poids initiaux uniformes"
   ],
   "id": "b0ed38478d832cfa",
   "outputs": [],
   "execution_count": 50
  },
  {
   "metadata": {
    "ExecuteTime": {
     "end_time": "2024-11-06T15:19:11.744243Z",
     "start_time": "2024-11-06T15:19:11.740419Z"
    }
   },
   "cell_type": "code",
   "source": [
    "# Fonction de prédiction pour la position et l'angle\n",
    "def predict(particles, sigma_position, sigma_angle):\n",
    "    noise_position = np.random.multivariate_normal([0, 0], sigma_position, N)\n",
    "    noise_angle = np.random.normal(0, sigma_angle, N) # Pour l'angle \n",
    "    particles[:, 0:2] += noise_position  # Mise à jour de x et y\n",
    "    particles[:, 2] += noise_angle  # Mise à jour de theta\n",
    "    particles[:, 2] %= 360  # Conserver l'angle dans [0, 360]\n",
    "    return particles"
   ],
   "id": "9d33da01adcd533b",
   "outputs": [],
   "execution_count": 51
  },
  {
   "metadata": {
    "ExecuteTime": {
     "end_time": "2024-11-06T15:19:11.749985Z",
     "start_time": "2024-11-06T15:19:11.745227Z"
    }
   },
   "cell_type": "code",
   "source": [
    "# Calcul de l'histogramme en tenant compte de l'angle de rotation\n",
    "def calc_histogram_with_orientation(image, particle, w, h):\n",
    "    x, y, theta = particle\n",
    "    M = cv2.getRotationMatrix2D((x, y), theta, 1.0)\n",
    "    rotated_roi = cv2.warpAffine(image, M, (image.shape[1], image.shape[0]))\n",
    "    roi = rotated_roi[int(y - h / 2):int(y + h / 2), int(x - w / 2):int(x + w / 2)]\n",
    "    hist = cv2.calcHist([roi], [0], None, [256], [0, 256])\n",
    "    hist = cv2.normalize(hist, hist).flatten()\n",
    "    return hist"
   ],
   "id": "25c349f9486732ee",
   "outputs": [],
   "execution_count": 52
  },
  {
   "metadata": {
    "ExecuteTime": {
     "end_time": "2024-11-06T15:19:11.754052Z",
     "start_time": "2024-11-06T15:19:11.750900Z"
    }
   },
   "cell_type": "code",
   "source": [
    "# Mise à jour des poids en fonction de la similarité des histogrammes\n",
    "def compute_weights(particles, frame, roi_hist, lambd):\n",
    "    weights = np.zeros(N)\n",
    "    for i, particle in enumerate(particles):\n",
    "        patch_hist = calc_histogram_with_orientation(frame, particle, w, h)\n",
    "        dist = cv2.compareHist(roi_hist, patch_hist, cv2.HISTCMP_BHATTACHARYYA)\n",
    "        weights[i] = np.exp(-lambd * dist**2)\n",
    "    weights /= np.sum(weights)  # Normalisation des poids\n",
    "    return weights"
   ],
   "id": "912289ec9a5aeda3",
   "outputs": [],
   "execution_count": 53
  },
  {
   "metadata": {
    "ExecuteTime": {
     "end_time": "2024-11-06T15:19:11.757025Z",
     "start_time": "2024-11-06T15:19:11.755005Z"
    }
   },
   "cell_type": "code",
   "source": [
    "# Rééchantillonnage des particules en fonction des poids\n",
    "def resample(particles, weights):\n",
    "    indices = np.random.choice(N, N, p=weights)\n",
    "    particles = particles[indices]\n",
    "    return particles"
   ],
   "id": "f2ab1e45185338f2",
   "outputs": [],
   "execution_count": 54
  },
  {
   "metadata": {
    "ExecuteTime": {
     "end_time": "2024-11-06T15:19:37.026997Z",
     "start_time": "2024-11-06T15:19:11.758134Z"
    }
   },
   "cell_type": "code",
   "source": [
    "# Boucle principale de suivi avec affichage\n",
    "while True:\n",
    "    ret, frame = cap.read()\n",
    "    if not ret:\n",
    "        break\n",
    "\n",
    "    # Prédiction des particules (x, y, theta)\n",
    "    particles = predict(particles, sigma_position, sigma_angle)\n",
    "\n",
    "    # Correction et mise à jour des poids\n",
    "    weights = compute_weights(particles, frame, roi_hist, lambd)\n",
    "\n",
    "    # Rééchantillonnage\n",
    "    particles = resample(particles, weights)\n",
    "\n",
    "    # Estimation de la position et de l'angle en prenant la moyenne pondérée\n",
    "    estimated_position = np.average(particles[:, :2], axis=0, weights=weights)\n",
    "    estimated_angle = np.average(particles[:, 2], weights=weights)\n",
    "\n",
    "    # Afficher le rectangle avec l'angle estimé\n",
    "    oriented_rect = ((estimated_position[0], estimated_position[1]), (w, h), estimated_angle)\n",
    "    box = cv2.boxPoints(oriented_rect)\n",
    "    box = np.int0(box)\n",
    "    cv2.drawContours(frame, [box], 0, (0, 255, 0), 2)  # Dessiner le rectangle orienté\n",
    "\n",
    "    # Afficher chaque particule en jaune\n",
    "    for particle in particles:\n",
    "        cv2.circle(frame, (int(particle[0]), int(particle[1])), 2, (0, 255, 255), -1)\n",
    "\n",
    "    # Affichage de la frame avec le suivi en temps réel\n",
    "    cv2.imshow(\"Tracking\", frame)\n",
    "\n",
    "    if cv2.waitKey(30) & 0xFF == ord('q'):\n",
    "        break\n",
    "\n",
    "# Libération des ressources\n",
    "cap.release()\n",
    "cv2.destroyAllWindows()"
   ],
   "id": "a971d3dce20ea29",
   "outputs": [
    {
     "name": "stderr",
     "output_type": "stream",
     "text": [
      "/var/folders/vv/klkd4n6s4879bw6t07pfn6wm0000gp/T/ipykernel_13038/3701441691.py:23: DeprecationWarning: `np.int0` is a deprecated alias for `np.intp`.  (Deprecated NumPy 1.24)\n",
      "  box = np.int0(box)\n"
     ]
    }
   ],
   "execution_count": 55
  }
 ],
 "metadata": {
  "kernelspec": {
   "display_name": "Python 3",
   "language": "python",
   "name": "python3"
  },
  "language_info": {
   "codemirror_mode": {
    "name": "ipython",
    "version": 2
   },
   "file_extension": ".py",
   "mimetype": "text/x-python",
   "name": "python",
   "nbconvert_exporter": "python",
   "pygments_lexer": "ipython2",
   "version": "2.7.6"
  }
 },
 "nbformat": 4,
 "nbformat_minor": 5
}
